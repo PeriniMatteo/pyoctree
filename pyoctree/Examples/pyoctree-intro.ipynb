{
 "cells": [
  {
   "cell_type": "markdown",
   "metadata": {},
   "source": [
    "# pyoctree introduction\n",
    "---\n",
    "Requirements:\n",
    "* pyoctree\n",
    "* vtk >= 6.2.0"
   ]
  },
  {
   "cell_type": "code",
   "execution_count": 1,
   "metadata": {},
   "outputs": [],
   "source": [
    "# Imports\n",
    "from __future__ import print_function\n",
    "%matplotlib inline\n",
    "import matplotlib.pyplot as plt\n",
    "import numpy as np\n",
    "import sys, vtk\n",
    "sys.path.append('../')\n",
    "import pyoctree\n",
    "from pyoctree import pyoctree as ot\n",
    "import time"
   ]
  },
  {
   "cell_type": "code",
   "execution_count": 2,
   "metadata": {},
   "outputs": [
    {
     "name": "stdout",
     "output_type": "stream",
     "text": [
      "pyoctree version =  0.2.4\n",
      "vtk version =  8.1.0\n"
     ]
    }
   ],
   "source": [
    "print('pyoctree version = ', pyoctree.__version__)\n",
    "print('vtk version = ', vtk.vtkVersion.GetVTKVersion())"
   ]
  },
  {
   "cell_type": "markdown",
   "metadata": {},
   "source": [
    "## Load 3D model geometry (stl file)"
   ]
  },
  {
   "cell_type": "code",
   "execution_count": 3,
   "metadata": {},
   "outputs": [
    {
     "name": "stdout",
     "output_type": "stream",
     "text": [
      "Number of points    = 38214\n",
      "Number of triangles = 76428\n"
     ]
    }
   ],
   "source": [
    "# Read in stl file using vtk\n",
    "reader = vtk.vtkSTLReader()\n",
    "reader.SetFileName(\"knot.stl\")\n",
    "reader.MergingOn()\n",
    "reader.Update()\n",
    "stl = reader.GetOutput()\n",
    "print(\"Number of points    = %d\" % stl.GetNumberOfPoints())\n",
    "print(\"Number of triangles = %d\" % stl.GetNumberOfCells())"
   ]
  },
  {
   "cell_type": "code",
   "execution_count": 4,
   "metadata": {},
   "outputs": [],
   "source": [
    "# Extract polygon info from stl\n",
    "\n",
    "# 1. Get array of point coordinates\n",
    "numPoints   = stl.GetNumberOfPoints()\n",
    "pointCoords = np.zeros((numPoints,3),dtype=float)\n",
    "for i in range(numPoints):\n",
    "    pointCoords[i,:] = stl.GetPoint(i)\n",
    "    \n",
    "# 2. Get polygon connectivity\n",
    "numPolys     = stl.GetNumberOfCells()\n",
    "connectivity = np.zeros((numPolys,3),dtype=np.int32)\n",
    "for i in range(numPolys):\n",
    "    atri = stl.GetCell(i)\n",
    "    ids = atri.GetPointIds()\n",
    "    for j in range(3):\n",
    "        connectivity[i,j] = ids.GetId(j)"
   ]
  },
  {
   "cell_type": "code",
   "execution_count": 5,
   "metadata": {},
   "outputs": [
    {
     "data": {
      "text/plain": [
       "array([[ 2.54317427,  7.41368246,  2.8599999 ],\n",
       "       [ 2.51169538,  7.40434027,  2.8599999 ],\n",
       "       [ 2.48648334,  7.48027468,  2.8599999 ],\n",
       "       ..., \n",
       "       [ 1.20494771,  8.17073154,  2.8599999 ],\n",
       "       [ 1.20671427,  8.17605209,  2.8599999 ],\n",
       "       [ 1.20778596,  8.18155479,  2.8599999 ]])"
      ]
     },
     "execution_count": 5,
     "metadata": {},
     "output_type": "execute_result"
    }
   ],
   "source": [
    "# Show format of pointCoords\n",
    "pointCoords"
   ]
  },
  {
   "cell_type": "code",
   "execution_count": 6,
   "metadata": {},
   "outputs": [
    {
     "data": {
      "text/plain": [
       "array([[    0,     1,     2],\n",
       "       [    2,     3,     0],\n",
       "       [    3,     4,     0],\n",
       "       ..., \n",
       "       [38182, 38181, 38180],\n",
       "       [38190, 38189, 38187],\n",
       "       [38189, 38188, 38187]], dtype=int32)"
      ]
     },
     "execution_count": 6,
     "metadata": {},
     "output_type": "execute_result"
    }
   ],
   "source": [
    "# Show format of connectivity\n",
    "connectivity"
   ]
  },
  {
   "cell_type": "markdown",
   "metadata": {},
   "source": [
    "## Generate octree"
   ]
  },
  {
   "cell_type": "code",
   "execution_count": 7,
   "metadata": {},
   "outputs": [
    {
     "name": "stdout",
     "output_type": "stream",
     "text": [
      "0.9512801170349121\n"
     ]
    }
   ],
   "source": [
    "# Create octree structure containing stl poly mesh\n",
    "max_depth = 5\n",
    "#tree = ot.PyOctree(pointCoords,connectivity, int max_point_per_voxel, int max_octree_depht)\n",
    "t=time.time()\n",
    "tree = ot.PyOctree(pointCoords,connectivity,100,max_depth)\n",
    "print(time.time()-t)"
   ]
  },
  {
   "cell_type": "code",
   "execution_count": 8,
   "metadata": {},
   "outputs": [
    {
     "name": "stdout",
     "output_type": "stream",
     "text": [
      "Size of Octree               = 3.115mm\n",
      "Number of Octnodes in Octree = 1753\n",
      "Number of polys in Octree    = 76428\n"
     ]
    }
   ],
   "source": [
    "# Print out basic Octree data\n",
    "print(\"Size of Octree               = %.3fmm\" % tree.root.size)\n",
    "print(\"Number of Octnodes in Octree = %d\" % tree.getNumberOfNodes())\n",
    "print(\"Number of polys in Octree    = %d\" % tree.numPolys)"
   ]
  },
  {
   "cell_type": "markdown",
   "metadata": {},
   "source": [
    "# Separate inside cells from the outside one"
   ]
  },
  {
   "cell_type": "code",
   "execution_count": 9,
   "metadata": {},
   "outputs": [
    {
     "name": "stdout",
     "output_type": "stream",
     "text": [
      "1753\n",
      "1534\n"
     ]
    }
   ],
   "source": [
    "print(tree.getNumberOfNodes())\n",
    "print(tree.getNumberOfLeafs())\n",
    "        "
   ]
  },
  {
   "cell_type": "code",
   "execution_count": 10,
   "metadata": {},
   "outputs": [
    {
     "name": "stdout",
     "output_type": "stream",
     "text": [
      "1534\n"
     ]
    }
   ],
   "source": [
    "a=tree.getLeafs()\n",
    "len(a)\n",
    "n=0\n",
    "for i in a:\n",
    "    if i.isLeaf:\n",
    "        n+=1\n",
    "print(n)"
   ]
  },
  {
   "cell_type": "code",
   "execution_count": 17,
   "metadata": {},
   "outputs": [
    {
     "name": "stdout",
     "output_type": "stream",
     "text": [
      "1753\n",
      "<PyOctnode, Id: 0, isLeaf: False, numPolys: 0>\n",
      "<PyOctnode, Id: 0-0, isLeaf: False, numPolys: 0>\n",
      "<PyOctnode, Id: 0-0-0, isLeaf: True, numPolys: 0>\n",
      "<PyOctnode, Id: 0-0-1, isLeaf: True, numPolys: 0>\n",
      "<PyOctnode, Id: 0-0-2, isLeaf: True, numPolys: 0>\n",
      "<PyOctnode, Id: 0-0-3, isLeaf: False, numPolys: 0>\n",
      "<PyOctnode, Id: 0-0-3-0, isLeaf: True, numPolys: 0>\n",
      "<PyOctnode, Id: 0-0-3-1, isLeaf: True, numPolys: 0>\n",
      "<PyOctnode, Id: 0-0-3-2, isLeaf: True, numPolys: 0>\n",
      "<PyOctnode, Id: 0-0-3-3, isLeaf: True, numPolys: 0>\n",
      "<PyOctnode, Id: 0-0-3-4, isLeaf: True, numPolys: 24>\n",
      "<PyOctnode, Id: 0-0-3-5, isLeaf: False, numPolys: 0>\n",
      "<PyOctnode, Id: 0-0-3-5-0, isLeaf: True, numPolys: 0>\n",
      "<PyOctnode, Id: 0-0-3-5-1, isLeaf: True, numPolys: 0>\n",
      "<PyOctnode, Id: 0-0-3-5-2, isLeaf: True, numPolys: 0>\n",
      "<PyOctnode, Id: 0-0-3-5-3, isLeaf: True, numPolys: 0>\n",
      "<PyOctnode, Id: 0-0-3-5-4, isLeaf: True, numPolys: 195>\n",
      "<PyOctnode, Id: 0-0-3-5-5, isLeaf: True, numPolys: 0>\n",
      "<PyOctnode, Id: 0-0-3-5-6, isLeaf: True, numPolys: 0>\n",
      "<PyOctnode, Id: 0-0-3-5-7, isLeaf: True, numPolys: 0>\n"
     ]
    }
   ],
   "source": [
    "b = tree.getNodes()\n",
    "print(len(b))\n",
    "for i in range(20):\n",
    "    print(b[i])"
   ]
  },
  {
   "cell_type": "markdown",
   "metadata": {},
   "source": [
    "## Explore tree nodes"
   ]
  },
  {
   "cell_type": "code",
   "execution_count": null,
   "metadata": {},
   "outputs": [],
   "source": [
    "# Get the root node\n",
    "print(tree.root)"
   ]
  },
  {
   "cell_type": "code",
   "execution_count": null,
   "metadata": {},
   "outputs": [],
   "source": [
    "# Get the branches of the root node, OctNode 0\n",
    "tree.root.branches"
   ]
  },
  {
   "cell_type": "code",
   "execution_count": null,
   "metadata": {},
   "outputs": [],
   "source": [
    "# Get OctNode 0-0 (first branch of the root node)\n",
    "print(tree.root.branches[0])"
   ]
  },
  {
   "cell_type": "code",
   "execution_count": null,
   "metadata": {},
   "outputs": [],
   "source": [
    "# Get the branches of OctNode 0-0 (first branch of the root node) using getNodeFromId function\n",
    "for i in range(8):\n",
    "    v_id = '0-0-'+str(i)\n",
    "    print(tree.getNodeFromId(v_id).level)\n",
    "print(tree.root.position)\n",
    "print(tree.root.size)"
   ]
  },
  {
   "cell_type": "code",
   "execution_count": null,
   "metadata": {},
   "outputs": [],
   "source": [
    "# An octnode that has no branches is a leaf\n",
    "print('OctNode 0-0-1 is a leaf = ', tree.getNodeFromId('0-3-1').isLeaf)\n",
    "print(tree.getNodeFromId('0-3-1'))"
   ]
  },
  {
   "cell_type": "markdown",
   "metadata": {},
   "source": [
    "## Explore polygons in tree"
   ]
  },
  {
   "cell_type": "code",
   "execution_count": null,
   "metadata": {},
   "outputs": [],
   "source": [
    "# Get list of first 10 polygons stored in tree\n",
    "tree.polyList[0:10]"
   ]
  },
  {
   "cell_type": "code",
   "execution_count": null,
   "metadata": {},
   "outputs": [],
   "source": [
    "# Get details of the first tri in the tree\n",
    "tri = tree.polyList[0]\n",
    "s = []\n",
    "for i in range(3):\n",
    "    s.append('[%.3f, %.3f, %.3f]' % tuple(tri.vertices[i][:3]))\n",
    "s = ','.join(s)\n",
    "\n",
    "print('Tri label = %d' % tri.label)\n",
    "print('Vertex coordinates = %s' % s)\n",
    "print('Face normal direction = [%.2f, %.2f, %.2f]' % tuple(tri.N))\n",
    "print('Perp. distance from origin = %.3f' % tri.D)"
   ]
  },
  {
   "cell_type": "code",
   "execution_count": null,
   "metadata": {},
   "outputs": [],
   "source": [
    "# Find the OctNode that the tri with label=0 lies within\n",
    "tree.getNodesFromLabel(0)"
   ]
  },
  {
   "cell_type": "code",
   "execution_count": null,
   "metadata": {},
   "outputs": [],
   "source": [
    "# Test if OctNode contains a particular tri label\n",
    "tree.getNodeFromId('0-3-1-4-5-4').hasPolyLabel(0)"
   ]
  },
  {
   "cell_type": "code",
   "execution_count": null,
   "metadata": {},
   "outputs": [],
   "source": [
    "#tree.getNodeFromId('0-3-1-4-5-4').get_data2()"
   ]
  },
  {
   "cell_type": "markdown",
   "metadata": {},
   "source": [
    "## Find intersections between 3D object and ray"
   ]
  },
  {
   "cell_type": "code",
   "execution_count": null,
   "metadata": {},
   "outputs": [],
   "source": [
    "# Create a list containing a single ray\n",
    "xs,xe,ys,ye,zs,ze = stl.GetBounds()\n",
    "x = 0.5*np.mean([xs,xe])\n",
    "y = np.mean([ys,ye])\n",
    "rayPointList = np.array([[[x,y,zs],[x,y,ze]]],dtype=np.float32)"
   ]
  },
  {
   "cell_type": "code",
   "execution_count": null,
   "metadata": {},
   "outputs": [],
   "source": [
    "# Find if an intersection occurred\n",
    "for i in tree.rayIntersections(rayPointList):\n",
    "    print(i==1)"
   ]
  },
  {
   "cell_type": "code",
   "execution_count": null,
   "metadata": {},
   "outputs": [],
   "source": [
    "# Get intersection points for a single ray\n",
    "ray = rayPointList[0]\n",
    "for i in tree.rayIntersection(ray):\n",
    "    print('Intersection coords = [%.2f, %.2f, %.2f]' % tuple(i.p), ',  Parametric. dist. along ray = %.2f' % i.s)"
   ]
  },
  {
   "cell_type": "markdown",
   "metadata": {},
   "source": [
    "## Write out a vtk file of the octree structure "
   ]
  },
  {
   "cell_type": "code",
   "execution_count": null,
   "metadata": {},
   "outputs": [],
   "source": [
    "# Create a vtk representation of Octree\n",
    "tree.getOctreeRep()"
   ]
  },
  {
   "cell_type": "code",
   "execution_count": null,
   "metadata": {},
   "outputs": [],
   "source": []
  }
 ],
 "metadata": {
  "kernelspec": {
   "display_name": "Python 3",
   "language": "python",
   "name": "python3"
  },
  "language_info": {
   "codemirror_mode": {
    "name": "ipython",
    "version": 3
   },
   "file_extension": ".py",
   "mimetype": "text/x-python",
   "name": "python",
   "nbconvert_exporter": "python",
   "pygments_lexer": "ipython3",
   "version": "3.6.3"
  }
 },
 "nbformat": 4,
 "nbformat_minor": 1
}
