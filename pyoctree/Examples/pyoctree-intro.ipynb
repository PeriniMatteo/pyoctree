{
 "cells": [
  {
   "cell_type": "markdown",
   "metadata": {},
   "source": [
    "# pyoctree introduction\n",
    "---\n",
    "Requirements:\n",
    "* pyoctree\n",
    "* vtk >= 6.2.0"
   ]
  },
  {
   "cell_type": "code",
   "execution_count": null,
   "metadata": {},
   "outputs": [],
   "source": [
    "# Imports\n",
    "from __future__ import print_function\n",
    "%matplotlib inline\n",
    "import matplotlib.pyplot as plt\n",
    "import numpy as np\n",
    "import sys, vtk\n",
    "sys.path.append('../')\n",
    "import pyoctree\n",
    "from pyoctree import pyoctree as ot\n",
    "import time"
   ]
  },
  {
   "cell_type": "code",
   "execution_count": null,
   "metadata": {},
   "outputs": [],
   "source": [
    "print('pyoctree version = ', pyoctree.__version__)\n",
    "print('vtk version = ', vtk.vtkVersion.GetVTKVersion())"
   ]
  },
  {
   "cell_type": "markdown",
   "metadata": {},
   "source": [
    "## Load 3D model geometry (stl file)"
   ]
  },
  {
   "cell_type": "code",
   "execution_count": null,
   "metadata": {},
   "outputs": [],
   "source": [
    "# Read in stl file using vtk\n",
    "reader = vtk.vtkSTLReader()\n",
    "reader.SetFileName(\"knot.stl\")\n",
    "reader.MergingOn()\n",
    "reader.Update()\n",
    "stl = reader.GetOutput()\n",
    "print(\"Number of points    = %d\" % stl.GetNumberOfPoints())\n",
    "print(\"Number of triangles = %d\" % stl.GetNumberOfCells())"
   ]
  },
  {
   "cell_type": "code",
   "execution_count": null,
   "metadata": {},
   "outputs": [],
   "source": [
    "# Extract polygon info from stl\n",
    "\n",
    "# 1. Get array of point coordinates\n",
    "numPoints   = stl.GetNumberOfPoints()\n",
    "pointCoords = np.zeros((numPoints,3),dtype=float)\n",
    "for i in range(numPoints):\n",
    "    pointCoords[i,:] = stl.GetPoint(i)\n",
    "    \n",
    "# 2. Get polygon connectivity\n",
    "numPolys     = stl.GetNumberOfCells()\n",
    "connectivity = np.zeros((numPolys,3),dtype=np.int32)\n",
    "for i in range(numPolys):\n",
    "    atri = stl.GetCell(i)\n",
    "    ids = atri.GetPointIds()\n",
    "    for j in range(3):\n",
    "        connectivity[i,j] = ids.GetId(j)"
   ]
  },
  {
   "cell_type": "code",
   "execution_count": null,
   "metadata": {},
   "outputs": [],
   "source": [
    "# Show format of pointCoords\n",
    "pointCoords"
   ]
  },
  {
   "cell_type": "code",
   "execution_count": null,
   "metadata": {},
   "outputs": [],
   "source": [
    "# Show format of connectivity\n",
    "connectivity"
   ]
  },
  {
   "cell_type": "markdown",
   "metadata": {},
   "source": [
    "## Generate octree"
   ]
  },
  {
   "cell_type": "code",
   "execution_count": null,
   "metadata": {},
   "outputs": [],
   "source": [
    "# Create octree structure containing stl poly mesh\n",
    "\n",
    "#tree = ot.PyOctree(pointCoords,connectivity, int max_point_per_voxel, int max_octree_depht)\n",
    "t=time.time()\n",
    "tree = ot.PyOctree(pointCoords,connectivity,70,8)\n",
    "print(time.time()-t)"
   ]
  },
  {
   "cell_type": "code",
   "execution_count": null,
   "metadata": {},
   "outputs": [],
   "source": [
    "# Print out basic Octree data\n",
    "print(\"Size of Octree               = %.3fmm\" % tree.root.size)\n",
    "print(\"Number of Octnodes in Octree = %d\" % tree.getNumberOfNodes())\n",
    "print(\"Number of polys in Octree    = %d\" % tree.numPolys)"
   ]
  },
  {
   "cell_type": "markdown",
   "metadata": {},
   "source": [
    "## Explore tree nodes"
   ]
  },
  {
   "cell_type": "code",
   "execution_count": null,
   "metadata": {},
   "outputs": [],
   "source": [
    "# Get the root node\n",
    "print(tree.root)"
   ]
  },
  {
   "cell_type": "code",
   "execution_count": null,
   "metadata": {},
   "outputs": [],
   "source": [
    "# Get the branches of the root node, OctNode 0\n",
    "tree.root.branches"
   ]
  },
  {
   "cell_type": "code",
   "execution_count": null,
   "metadata": {},
   "outputs": [],
   "source": [
    "# Get OctNode 0-0 (first branch of the root node)\n",
    "print(tree.root.branches[0])"
   ]
  },
  {
   "cell_type": "code",
   "execution_count": null,
   "metadata": {},
   "outputs": [],
   "source": [
    "# Get the branches of OctNode 0-0 (first branch of the root node) using getNodeFromId function\n",
    "tree.getNodeFromId('0-0').branches"
   ]
  },
  {
   "cell_type": "code",
   "execution_count": null,
   "metadata": {},
   "outputs": [],
   "source": [
    "# An octnode that has no branches is a leaf\n",
    "print('OctNode 0-0-1 is a leaf = ', tree.getNodeFromId('0-3-1').isLeaf)\n",
    "print(tree.getNodeFromId('0-3-1'))"
   ]
  },
  {
   "cell_type": "markdown",
   "metadata": {},
   "source": [
    "## Explore polygons in tree"
   ]
  },
  {
   "cell_type": "code",
   "execution_count": null,
   "metadata": {},
   "outputs": [],
   "source": [
    "# Get list of first 10 polygons stored in tree\n",
    "tree.polyList[0:10]"
   ]
  },
  {
   "cell_type": "code",
   "execution_count": null,
   "metadata": {},
   "outputs": [],
   "source": [
    "# Get details of the first tri in the tree\n",
    "tri = tree.polyList[0]\n",
    "s = []\n",
    "for i in range(3):\n",
    "    s.append('[%.3f, %.3f, %.3f]' % tuple(tri.vertices[i][:3]))\n",
    "s = ','.join(s)\n",
    "\n",
    "print('Tri label = %d' % tri.label)\n",
    "print('Vertex coordinates = %s' % s)\n",
    "print('Face normal direction = [%.2f, %.2f, %.2f]' % tuple(tri.N))\n",
    "print('Perp. distance from origin = %.3f' % tri.D)"
   ]
  },
  {
   "cell_type": "code",
   "execution_count": null,
   "metadata": {},
   "outputs": [],
   "source": [
    "# Find the OctNode that the tri with label=0 lies within\n",
    "tree.getNodesFromLabel(0)"
   ]
  },
  {
   "cell_type": "code",
   "execution_count": null,
   "metadata": {},
   "outputs": [],
   "source": [
    "# Test if OctNode contains a particular tri label\n",
    "tree.getNodeFromId('0-3-1-4-5-4').hasPolyLabel(0)"
   ]
  },
  {
   "cell_type": "code",
   "execution_count": null,
   "metadata": {},
   "outputs": [],
   "source": [
    "#tree.getNodeFromId('0-3-1-4-5-4').get_data2()"
   ]
  },
  {
   "cell_type": "markdown",
   "metadata": {},
   "source": [
    "## Find intersections between 3D object and ray"
   ]
  },
  {
   "cell_type": "code",
   "execution_count": null,
   "metadata": {},
   "outputs": [],
   "source": [
    "# Create a list containing a single ray\n",
    "xs,xe,ys,ye,zs,ze = stl.GetBounds()\n",
    "x = 0.5*np.mean([xs,xe])\n",
    "y = np.mean([ys,ye])\n",
    "rayPointList = np.array([[[x,y,zs],[x,y,ze]]],dtype=np.float32)"
   ]
  },
  {
   "cell_type": "code",
   "execution_count": null,
   "metadata": {},
   "outputs": [],
   "source": [
    "# Find if an intersection occurred\n",
    "for i in tree.rayIntersections(rayPointList):\n",
    "    print(i==1)"
   ]
  },
  {
   "cell_type": "code",
   "execution_count": null,
   "metadata": {},
   "outputs": [],
   "source": [
    "# Get intersection points for a single ray\n",
    "ray = rayPointList[0]\n",
    "for i in tree.rayIntersection(ray):\n",
    "    print('Intersection coords = [%.2f, %.2f, %.2f]' % tuple(i.p), ',  Parametric. dist. along ray = %.2f' % i.s)"
   ]
  },
  {
   "cell_type": "markdown",
   "metadata": {},
   "source": [
    "## Write out a vtk file of the octree structure "
   ]
  },
  {
   "cell_type": "code",
   "execution_count": null,
   "metadata": {},
   "outputs": [],
   "source": [
    "# Create a vtk representation of Octree\n",
    "tree.getOctreeRep()"
   ]
  },
  {
   "cell_type": "code",
   "execution_count": null,
   "metadata": {},
   "outputs": [],
   "source": []
  }
 ],
 "metadata": {
  "kernelspec": {
   "display_name": "Python 3",
   "language": "python",
   "name": "python3"
  },
  "language_info": {
   "codemirror_mode": {
    "name": "ipython",
    "version": 3
   },
   "file_extension": ".py",
   "mimetype": "text/x-python",
   "name": "python",
   "nbconvert_exporter": "python",
   "pygments_lexer": "ipython3",
   "version": "3.6.3"
  }
 },
 "nbformat": 4,
 "nbformat_minor": 1
}
