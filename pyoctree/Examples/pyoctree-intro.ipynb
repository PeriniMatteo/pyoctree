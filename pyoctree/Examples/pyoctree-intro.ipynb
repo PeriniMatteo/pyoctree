{
 "cells": [
  {
   "cell_type": "markdown",
   "metadata": {},
   "source": [
    "# pyoctree introduction\n",
    "---\n",
    "Requirements:\n",
    "* pyoctree\n",
    "* vtk >= 6.2.0"
   ]
  },
  {
   "cell_type": "code",
   "execution_count": 1,
   "metadata": {},
   "outputs": [],
   "source": [
    "# Imports\n",
    "from __future__ import print_function\n",
    "%matplotlib inline\n",
    "import matplotlib.pyplot as plt\n",
    "import numpy as np\n",
    "import sys, vtk\n",
    "sys.path.append('../')\n",
    "import pyoctree\n",
    "from pyoctree import pyoctree as ot\n",
    "import time\n",
    "import random"
   ]
  },
  {
   "cell_type": "code",
   "execution_count": 2,
   "metadata": {},
   "outputs": [
    {
     "name": "stdout",
     "output_type": "stream",
     "text": [
      "pyoctree version =  0.2.4\n",
      "vtk version =  8.1.0\n"
     ]
    }
   ],
   "source": [
    "print('pyoctree version = ', pyoctree.__version__)\n",
    "print('vtk version = ', vtk.vtkVersion.GetVTKVersion())"
   ]
  },
  {
   "cell_type": "markdown",
   "metadata": {},
   "source": [
    "## Load 3D model geometry (stl file)"
   ]
  },
  {
   "cell_type": "code",
   "execution_count": 3,
   "metadata": {},
   "outputs": [
    {
     "name": "stdout",
     "output_type": "stream",
     "text": [
      "Number of points    = 38214\n",
      "Number of triangles = 76428\n"
     ]
    }
   ],
   "source": [
    "# Read in stl file using vtk\n",
    "reader = vtk.vtkSTLReader()\n",
    "reader.SetFileName(\"knot.stl\")\n",
    "reader.MergingOn()\n",
    "reader.Update()\n",
    "stl = reader.GetOutput()\n",
    "print(\"Number of points    = %d\" % stl.GetNumberOfPoints())\n",
    "print(\"Number of triangles = %d\" % stl.GetNumberOfCells())"
   ]
  },
  {
   "cell_type": "code",
   "execution_count": 4,
   "metadata": {},
   "outputs": [],
   "source": [
    "# Extract polygon info from stl\n",
    "\n",
    "# 1. Get array of point coordinates\n",
    "numPoints   = stl.GetNumberOfPoints()\n",
    "pointCoords = np.zeros((numPoints,3),dtype=float)\n",
    "for i in range(numPoints):\n",
    "    pointCoords[i,:] = stl.GetPoint(i)\n",
    "    \n",
    "# 2. Get polygon connectivity\n",
    "numPolys     = stl.GetNumberOfCells()\n",
    "connectivity = np.zeros((numPolys,3),dtype=np.int32)\n",
    "for i in range(numPolys):\n",
    "    atri = stl.GetCell(i)\n",
    "    ids = atri.GetPointIds()\n",
    "    for j in range(3):\n",
    "        connectivity[i,j] = ids.GetId(j)"
   ]
  },
  {
   "cell_type": "code",
   "execution_count": 5,
   "metadata": {},
   "outputs": [
    {
     "data": {
      "text/plain": [
       "array([[ 2.54317427,  7.41368246,  2.8599999 ],\n",
       "       [ 2.51169538,  7.40434027,  2.8599999 ],\n",
       "       [ 2.48648334,  7.48027468,  2.8599999 ],\n",
       "       ..., \n",
       "       [ 1.20494771,  8.17073154,  2.8599999 ],\n",
       "       [ 1.20671427,  8.17605209,  2.8599999 ],\n",
       "       [ 1.20778596,  8.18155479,  2.8599999 ]])"
      ]
     },
     "execution_count": 5,
     "metadata": {},
     "output_type": "execute_result"
    }
   ],
   "source": [
    "# Show format of pointCoords\n",
    "pointCoords"
   ]
  },
  {
   "cell_type": "code",
   "execution_count": 6,
   "metadata": {},
   "outputs": [
    {
     "data": {
      "text/plain": [
       "array([[    0,     1,     2],\n",
       "       [    2,     3,     0],\n",
       "       [    3,     4,     0],\n",
       "       ..., \n",
       "       [38182, 38181, 38180],\n",
       "       [38190, 38189, 38187],\n",
       "       [38189, 38188, 38187]], dtype=int32)"
      ]
     },
     "execution_count": 6,
     "metadata": {},
     "output_type": "execute_result"
    }
   ],
   "source": [
    "# Show format of connectivity\n",
    "connectivity"
   ]
  },
  {
   "cell_type": "markdown",
   "metadata": {},
   "source": [
    "## Generate octree"
   ]
  },
  {
   "cell_type": "code",
   "execution_count": 7,
   "metadata": {},
   "outputs": [
    {
     "name": "stdout",
     "output_type": "stream",
     "text": [
      "0.9311907291412354\n"
     ]
    }
   ],
   "source": [
    "# Create octree structure containing stl poly mesh\n",
    "max_depth = 5\n",
    "#tree = ot.PyOctree(pointCoords,connectivity, int max_point_per_voxel, int max_octree_depht)\n",
    "t=time.time()\n",
    "tree = ot.PyOctree(pointCoords,connectivity,100,max_depth)\n",
    "print(time.time()-t)"
   ]
  },
  {
   "cell_type": "code",
   "execution_count": 8,
   "metadata": {},
   "outputs": [
    {
     "name": "stdout",
     "output_type": "stream",
     "text": [
      "Size of Octree               = 3.115mm\n",
      "Number of Octnodes in Octree = 1753\n",
      "Number of polys in Octree    = 76428\n"
     ]
    }
   ],
   "source": [
    "# Print out basic Octree data\n",
    "print(\"Size of Octree               = %.3fmm\" % tree.root.size)\n",
    "print(\"Number of Octnodes in Octree = %d\" % tree.getNumberOfNodes())\n",
    "print(\"Number of polys in Octree    = %d\" % tree.numPolys)"
   ]
  },
  {
   "cell_type": "markdown",
   "metadata": {},
   "source": [
    "# Separate inside cells from the outside one"
   ]
  },
  {
   "cell_type": "code",
   "execution_count": 9,
   "metadata": {},
   "outputs": [
    {
     "name": "stdout",
     "output_type": "stream",
     "text": [
      "1753\n",
      "1534\n"
     ]
    }
   ],
   "source": [
    "print(tree.getNumberOfNodes())\n",
    "print(tree.getNumberOfLeafs())\n",
    "        "
   ]
  },
  {
   "cell_type": "code",
   "execution_count": 10,
   "metadata": {},
   "outputs": [
    {
     "name": "stdout",
     "output_type": "stream",
     "text": [
      "1534\n"
     ]
    }
   ],
   "source": [
    "a=tree.getLeafs()\n",
    "len(a)\n",
    "n=0\n",
    "for i in a:\n",
    "    if i.isLeaf:\n",
    "        n+=1\n",
    "print(n)"
   ]
  },
  {
   "cell_type": "code",
   "execution_count": 40,
   "metadata": {},
   "outputs": [
    {
     "name": "stdout",
     "output_type": "stream",
     "text": [
      "1753\n",
      "0\n",
      "0\n",
      "0\n",
      "0\n",
      "0\n",
      "0\n",
      "0\n",
      "0\n",
      "0\n",
      "0\n",
      "24\n",
      "0\n",
      "0\n",
      "0\n",
      "0\n",
      "0\n",
      "195\n",
      "0\n",
      "0\n",
      "0\n",
      "<class 'pyoctree.pyoctree.PyOctnode'>\n"
     ]
    }
   ],
   "source": [
    "b = tree.getNodes()\n",
    "print(len(b))\n",
    "for i in range(20):\n",
    "    print(b[i].numPolys)\n",
    "print(type(b[0]))"
   ]
  },
  {
   "cell_type": "markdown",
   "metadata": {},
   "source": [
    "# For each node check wheter it belongs to the mesh or not"
   ]
  },
  {
   "cell_type": "code",
   "execution_count": 12,
   "metadata": {},
   "outputs": [
    {
     "data": {
      "text/plain": [
       "pyoctree.pyoctree.PyOctnode"
      ]
     },
     "execution_count": 12,
     "metadata": {},
     "output_type": "execute_result"
    }
   ],
   "source": [
    "type(tree.getNodes()[0])"
   ]
  },
  {
   "cell_type": "code",
   "execution_count": 35,
   "metadata": {},
   "outputs": [
    {
     "name": "stdout",
     "output_type": "stream",
     "text": [
      "True\n",
      "[ 1.4077959   6.83933439  2.80578265]\n"
     ]
    }
   ],
   "source": [
    "b[19].isInside = True\n",
    "print(b[19].isInside)\n",
    "print(b[19].position)"
   ]
  },
  {
   "cell_type": "code",
   "execution_count": 41,
   "metadata": {},
   "outputs": [],
   "source": [
    "r = tree.root.size\n",
    "for node in tree.getNodes():\n",
    "    if node.numPolys == 0:\n",
    "        coords = node.position\n",
    "        ray = np.array([[coords[0],coords[1],coords[2]+r],[coords[0],coords[1],coords[2]-r]],dtype=np.float32)\n",
    "        if len(tree.rayIntersection(ray))%2:\n",
    "            node.isInside = True\n",
    "    else:\n",
    "        node.isInside = True\n",
    "        \n"
   ]
  },
  {
   "cell_type": "code",
   "execution_count": 42,
   "metadata": {},
   "outputs": [
    {
     "name": "stdout",
     "output_type": "stream",
     "text": [
      "1753\n",
      "1026\n"
     ]
    }
   ],
   "source": [
    "n=0\n",
    "m=0\n",
    "for node in tree.getNodes():\n",
    "    m+=1\n",
    "    if node.isInside:\n",
    "        n+=1\n",
    "print(m)\n",
    "print(n)"
   ]
  },
  {
   "cell_type": "code",
   "execution_count": 15,
   "metadata": {},
   "outputs": [
    {
     "ename": "SyntaxError",
     "evalue": "invalid syntax (<ipython-input-15-a7b5924b00ac>, line 17)",
     "output_type": "error",
     "traceback": [
      "\u001b[0;36m  File \u001b[0;32m\"<ipython-input-15-a7b5924b00ac>\"\u001b[0;36m, line \u001b[0;32m17\u001b[0m\n\u001b[0;31m    print('Intersection coords = [%.2f, %.2f, %.2f]' % tuple(i.p), ',  Parametric. dist. along ray = %.2f' % i.s)ction coords = [%.2f, %.2f, %.2f]' % tuple(i.p), ',  Parametric. dist. along ray = %.2f' % i.s)\u001b[0m\n\u001b[0m                                                                                                                     ^\u001b[0m\n\u001b[0;31mSyntaxError\u001b[0m\u001b[0;31m:\u001b[0m invalid syntax\n"
     ]
    }
   ],
   "source": [
    "# Get intersection points for a single ray\n",
    "\n",
    "\n",
    "\n",
    "xs,xe,ys,ye,zs,ze = stl.GetBounds()\n",
    "x = 0.5*np.mean([xs,xe])\n",
    "y = np.mean([ys,ye])\n",
    "rayPointList = np.array([[[x,y,zs],[x,y,ze]]],dtype=np.float32)\n",
    "\n",
    "# Find if an intersection occurred\n",
    "for i in tree.rayIntersections(rayPointList):\n",
    "    print(i==1)\n",
    "\n",
    "# Get intersection points for a single ray\n",
    "ray = rayPointList[0]\n",
    "for i in tree.rayIntersection(ray):\n",
    "    print('Intersection coords = [%.2f, %.2f, %.2f]' % tuple(i.p), ',  Parametric. dist. along ray = %.2f' % i.s)ction coords = [%.2f, %.2f, %.2f]' % tuple(i.p), ',  Parametric. dist. along ray = %.2f' % i.s)"
   ]
  },
  {
   "cell_type": "markdown",
   "metadata": {},
   "source": [
    "## Explore tree nodes"
   ]
  },
  {
   "cell_type": "code",
   "execution_count": 16,
   "metadata": {},
   "outputs": [
    {
     "name": "stdout",
     "output_type": "stream",
     "text": [
      "<PyOctnode, Id: 0, isLeaf: False, numPolys: 0>\n"
     ]
    }
   ],
   "source": [
    "# Get the root node\n",
    "print(tree.root)"
   ]
  },
  {
   "cell_type": "code",
   "execution_count": 17,
   "metadata": {},
   "outputs": [
    {
     "data": {
      "text/plain": [
       "[<PyOctnode 0-0>,\n",
       " <PyOctnode 0-1>,\n",
       " <PyOctnode 0-2>,\n",
       " <PyOctnode 0-3>,\n",
       " <PyOctnode 0-4>,\n",
       " <PyOctnode 0-5>,\n",
       " <PyOctnode 0-6>,\n",
       " <PyOctnode 0-7>]"
      ]
     },
     "execution_count": 17,
     "metadata": {},
     "output_type": "execute_result"
    }
   ],
   "source": [
    "# Get the branches of the root node, OctNode 0\n",
    "tree.root.branches"
   ]
  },
  {
   "cell_type": "code",
   "execution_count": 18,
   "metadata": {},
   "outputs": [
    {
     "name": "stdout",
     "output_type": "stream",
     "text": [
      "<PyOctnode, Id: 0-0, isLeaf: False, numPolys: 0>\n"
     ]
    }
   ],
   "source": [
    "# Get OctNode 0-0 (first branch of the root node)\n",
    "print(tree.root.branches[0])"
   ]
  },
  {
   "cell_type": "code",
   "execution_count": 19,
   "metadata": {},
   "outputs": [
    {
     "name": "stdout",
     "output_type": "stream",
     "text": [
      "3\n",
      "3\n",
      "3\n",
      "3\n",
      "3\n",
      "3\n",
      "3\n",
      "3\n",
      "[ 1.50515477  7.32612872  3.68201244]\n",
      "3.1154836893081668\n"
     ]
    }
   ],
   "source": [
    "# Get the branches of OctNode 0-0 (first branch of the root node) using getNodeFromId function\n",
    "for i in range(8):\n",
    "    v_id = '0-0-'+str(i)\n",
    "    print(tree.getNodeFromId(v_id).level)\n",
    "print(tree.root.position)\n",
    "print(tree.root.size)"
   ]
  },
  {
   "cell_type": "code",
   "execution_count": 20,
   "metadata": {},
   "outputs": [
    {
     "name": "stdout",
     "output_type": "stream",
     "text": [
      "OctNode 0-0-1 is a leaf =  False\n",
      "<PyOctnode, Id: 0-3-1, isLeaf: False, numPolys: 0>\n"
     ]
    }
   ],
   "source": [
    "# An octnode that has no branches is a leaf\n",
    "print('OctNode 0-0-1 is a leaf = ', tree.getNodeFromId('0-3-1').isLeaf)\n",
    "print(tree.getNodeFromId('0-3-1'))"
   ]
  },
  {
   "cell_type": "markdown",
   "metadata": {},
   "source": [
    "## Explore polygons in tree"
   ]
  },
  {
   "cell_type": "code",
   "execution_count": 21,
   "metadata": {},
   "outputs": [
    {
     "data": {
      "text/plain": [
       "[<PyTri 0>,\n",
       " <PyTri 1>,\n",
       " <PyTri 2>,\n",
       " <PyTri 3>,\n",
       " <PyTri 4>,\n",
       " <PyTri 5>,\n",
       " <PyTri 6>,\n",
       " <PyTri 7>,\n",
       " <PyTri 8>,\n",
       " <PyTri 9>]"
      ]
     },
     "execution_count": 21,
     "metadata": {},
     "output_type": "execute_result"
    }
   ],
   "source": [
    "# Get list of first 10 polygons stored in tree\n",
    "tree.polyList[0:10]"
   ]
  },
  {
   "cell_type": "code",
   "execution_count": 22,
   "metadata": {},
   "outputs": [
    {
     "name": "stdout",
     "output_type": "stream",
     "text": [
      "Tri label = 0\n",
      "Vertex coordinates = [2.543, 7.414, 2.860],[2.512, 7.404, 2.860],[2.486, 7.480, 2.860]\n",
      "Face normal direction = [0.00, 0.00, -1.00]\n",
      "Perp. distance from origin = -2.860\n"
     ]
    }
   ],
   "source": [
    "# Get details of the first tri in the tree\n",
    "tri = tree.polyList[0]\n",
    "s = []\n",
    "for i in range(3):\n",
    "    s.append('[%.3f, %.3f, %.3f]' % tuple(tri.vertices[i][:3]))\n",
    "s = ','.join(s)\n",
    "\n",
    "print('Tri label = %d' % tri.label)\n",
    "print('Vertex coordinates = %s' % s)\n",
    "print('Face normal direction = [%.2f, %.2f, %.2f]' % tuple(tri.N))\n",
    "print('Perp. distance from origin = %.3f' % tri.D)"
   ]
  },
  {
   "cell_type": "code",
   "execution_count": 23,
   "metadata": {},
   "outputs": [
    {
     "data": {
      "text/plain": [
       "<PyOctnode 0-3-1-4-5>"
      ]
     },
     "execution_count": 23,
     "metadata": {},
     "output_type": "execute_result"
    }
   ],
   "source": [
    "# Find the OctNode that the tri with label=0 lies within\n",
    "tree.getNodesFromLabel(0)"
   ]
  },
  {
   "cell_type": "code",
   "execution_count": 24,
   "metadata": {},
   "outputs": [
    {
     "ename": "AttributeError",
     "evalue": "'NoneType' object has no attribute 'hasPolyLabel'",
     "output_type": "error",
     "traceback": [
      "\u001b[0;31m---------------------------------------------------------------------------\u001b[0m",
      "\u001b[0;31mAttributeError\u001b[0m                            Traceback (most recent call last)",
      "\u001b[0;32m<ipython-input-24-9cf8b70668bf>\u001b[0m in \u001b[0;36m<module>\u001b[0;34m()\u001b[0m\n\u001b[1;32m      1\u001b[0m \u001b[0;31m# Test if OctNode contains a particular tri label\u001b[0m\u001b[0;34m\u001b[0m\u001b[0;34m\u001b[0m\u001b[0m\n\u001b[0;32m----> 2\u001b[0;31m \u001b[0mtree\u001b[0m\u001b[0;34m.\u001b[0m\u001b[0mgetNodeFromId\u001b[0m\u001b[0;34m(\u001b[0m\u001b[0;34m'0-3-1-4-5-4'\u001b[0m\u001b[0;34m)\u001b[0m\u001b[0;34m.\u001b[0m\u001b[0mhasPolyLabel\u001b[0m\u001b[0;34m(\u001b[0m\u001b[0;36m0\u001b[0m\u001b[0;34m)\u001b[0m\u001b[0;34m\u001b[0m\u001b[0m\n\u001b[0m",
      "\u001b[0;31mAttributeError\u001b[0m: 'NoneType' object has no attribute 'hasPolyLabel'"
     ]
    }
   ],
   "source": [
    "# Test if OctNode contains a particular tri label\n",
    "tree.getNodeFromId('0-3-1-4-5-4').hasPolyLabel(0)"
   ]
  },
  {
   "cell_type": "code",
   "execution_count": 25,
   "metadata": {},
   "outputs": [],
   "source": [
    "#tree.getNodeFromId('0-3-1-4-5-4').get_data2()"
   ]
  },
  {
   "cell_type": "markdown",
   "metadata": {},
   "source": [
    "## Find intersections between 3D object and ray"
   ]
  },
  {
   "cell_type": "code",
   "execution_count": 30,
   "metadata": {},
   "outputs": [
    {
     "name": "stdout",
     "output_type": "stream",
     "text": [
      "(0.025677038356661797, 2.9846324920654297, 5.842565059661865, 8.8096923828125, 2.859999895095825, 4.504024982452393)\n",
      "x = 0.752577382606\n",
      "y = 7.32612872124\n",
      "[[[ 0.75257736  7.32612896  2.8599999 ]\n",
      "  [ 0.75257736  7.32612896  4.50402498]]]\n"
     ]
    }
   ],
   "source": [
    "# Create a list containing a single ray\n",
    "xs,xe,ys,ye,zs,ze = stl.GetBounds()\n",
    "print(stl.GetBounds())\n",
    "x = 0.5*np.mean([xs,xe])\n",
    "print('x =',x)\n",
    "y = np.mean([ys,ye])\n",
    "print('y =',y)\n",
    "rayPointList = np.array([[[x,y,zs],[x,y,ze]]],dtype=np.float32)\n",
    "print(rayPointList)"
   ]
  },
  {
   "cell_type": "code",
   "execution_count": 31,
   "metadata": {},
   "outputs": [
    {
     "name": "stdout",
     "output_type": "stream",
     "text": [
      "True\n",
      "[1]\n"
     ]
    }
   ],
   "source": [
    "# Find if an intersection occurred\n",
    "for i in tree.rayIntersections(rayPointList):\n",
    "    print(i==1)\n",
    "print(tree.rayIntersections(rayPointList))"
   ]
  },
  {
   "cell_type": "code",
   "execution_count": 34,
   "metadata": {},
   "outputs": [
    {
     "name": "stdout",
     "output_type": "stream",
     "text": [
      "[[ 0.75257736  7.32612896  2.8599999 ]\n",
      " [ 0.75257736  7.32612896  4.50402498]]\n",
      "Intersection coords = [0.75, 7.33, 3.32] ,  Parametric. dist. along ray = 0.46\n",
      "Intersection coords = [0.75, 7.33, 3.64] ,  Parametric. dist. along ray = 0.78\n",
      "Intersection coords = [0.75, 7.33, 3.87] ,  Parametric. dist. along ray = 1.01\n",
      "Intersection coords = [0.75, 7.33, 4.42] ,  Parametric. dist. along ray = 1.56\n",
      "0\n"
     ]
    }
   ],
   "source": [
    "# Get intersection points for a single ray\n",
    "ray = rayPointList[0]\n",
    "print(ray)\n",
    "for i in tree.rayIntersection(ray):\n",
    "    print('Intersection coords = [%.2f, %.2f, %.2f]' % tuple(i.p), ',  Parametric. dist. along ray = %.2f' % i.s)\n",
    "print(len(tree.rayIntersection(ray))%2)"
   ]
  },
  {
   "cell_type": "code",
   "execution_count": null,
   "metadata": {},
   "outputs": [],
   "source": [
    "for "
   ]
  },
  {
   "cell_type": "code",
   "execution_count": null,
   "metadata": {},
   "outputs": [],
   "source": []
  },
  {
   "cell_type": "code",
   "execution_count": null,
   "metadata": {},
   "outputs": [],
   "source": []
  },
  {
   "cell_type": "markdown",
   "metadata": {},
   "source": [
    "## Write out a vtk file of the octree structure "
   ]
  },
  {
   "cell_type": "code",
   "execution_count": null,
   "metadata": {},
   "outputs": [],
   "source": [
    "# Create a vtk representation of Octree\n",
    "tree.getOctreeRep()"
   ]
  },
  {
   "cell_type": "code",
   "execution_count": null,
   "metadata": {},
   "outputs": [],
   "source": []
  }
 ],
 "metadata": {
  "kernelspec": {
   "display_name": "Python 3",
   "language": "python",
   "name": "python3"
  },
  "language_info": {
   "codemirror_mode": {
    "name": "ipython",
    "version": 3
   },
   "file_extension": ".py",
   "mimetype": "text/x-python",
   "name": "python",
   "nbconvert_exporter": "python",
   "pygments_lexer": "ipython3",
   "version": "3.6.3"
  }
 },
 "nbformat": 4,
 "nbformat_minor": 1
}
